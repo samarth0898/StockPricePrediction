{
 "cells": [
  {
   "cell_type": "code",
   "execution_count": 24,
   "metadata": {},
   "outputs": [
    {
     "name": "stderr",
     "output_type": "stream",
     "text": [
      "C:\\Users\\thopa\\AppData\\Local\\Temp\\ipykernel_26064\\207407201.py:8: FutureWarning: The pandas.datetime class is deprecated and will be removed from pandas in a future version. Import from datetime module instead.\n",
      "  from pandas import datetime\n"
     ]
    }
   ],
   "source": [
    "# Samarth Ganesh Thopaiah ~ Machine learning for signal processing \n",
    "from sklearn.metrics import mean_squared_error, r2_score, mean_absolute_error\n",
    "from datetime import date\n",
    "import numpy as np \n",
    "import pandas as pd \n",
    "import matplotlib.pyplot as plt\n",
    "from pandas.plotting import lag_plot\n",
    "from pandas import datetime\n",
    "# from statsmodels.tsa.arima.model import ARIMA\n",
    "# import statsmodels.api as smapi\n",
    "from sklearn.metrics import mean_squared_error\n",
    "import yfinance as yf\n",
    "import os, contextlib\n",
    "import glob\n",
    "from tqdm.auto import tqdm"
   ]
  },
  {
   "cell_type": "code",
   "execution_count": 25,
   "metadata": {},
   "outputs": [
    {
     "ename": "KeyError",
     "evalue": "'Ticker'",
     "output_type": "error",
     "traceback": [
      "\u001b[1;31m---------------------------------------------------------------------------\u001b[0m",
      "\u001b[1;31mKeyError\u001b[0m                                  Traceback (most recent call last)",
      "File \u001b[1;32md:\\anaconda\\envs\\MachineLearningSP\\lib\\site-packages\\pandas\\core\\indexes\\base.py:3803\u001b[0m, in \u001b[0;36mIndex.get_loc\u001b[1;34m(self, key, method, tolerance)\u001b[0m\n\u001b[0;32m   3802\u001b[0m \u001b[39mtry\u001b[39;00m:\n\u001b[1;32m-> 3803\u001b[0m     \u001b[39mreturn\u001b[39;00m \u001b[39mself\u001b[39;49m\u001b[39m.\u001b[39;49m_engine\u001b[39m.\u001b[39;49mget_loc(casted_key)\n\u001b[0;32m   3804\u001b[0m \u001b[39mexcept\u001b[39;00m \u001b[39mKeyError\u001b[39;00m \u001b[39mas\u001b[39;00m err:\n",
      "File \u001b[1;32md:\\anaconda\\envs\\MachineLearningSP\\lib\\site-packages\\pandas\\_libs\\index.pyx:138\u001b[0m, in \u001b[0;36mpandas._libs.index.IndexEngine.get_loc\u001b[1;34m()\u001b[0m\n",
      "File \u001b[1;32md:\\anaconda\\envs\\MachineLearningSP\\lib\\site-packages\\pandas\\_libs\\index.pyx:165\u001b[0m, in \u001b[0;36mpandas._libs.index.IndexEngine.get_loc\u001b[1;34m()\u001b[0m\n",
      "File \u001b[1;32mpandas\\_libs\\hashtable_class_helper.pxi:5745\u001b[0m, in \u001b[0;36mpandas._libs.hashtable.PyObjectHashTable.get_item\u001b[1;34m()\u001b[0m\n",
      "File \u001b[1;32mpandas\\_libs\\hashtable_class_helper.pxi:5753\u001b[0m, in \u001b[0;36mpandas._libs.hashtable.PyObjectHashTable.get_item\u001b[1;34m()\u001b[0m\n",
      "\u001b[1;31mKeyError\u001b[0m: 'Ticker'",
      "\nThe above exception was the direct cause of the following exception:\n",
      "\u001b[1;31mKeyError\u001b[0m                                  Traceback (most recent call last)",
      "\u001b[1;32mc:\\Users\\thopa\\Desktop\\Assignments\\11755_MLforSP\\Project\\AdaptiveFiltering\\prototype.ipynb Cell 2\u001b[0m in \u001b[0;36m<cell line: 8>\u001b[1;34m()\u001b[0m\n\u001b[0;32m      <a href='vscode-notebook-cell:/c%3A/Users/thopa/Desktop/Assignments/11755_MLforSP/Project/AdaptiveFiltering/prototype.ipynb#W1sZmlsZQ%3D%3D?line=5'>6</a>\u001b[0m url \u001b[39m=\u001b[39m \u001b[39m'\u001b[39m\u001b[39mhttps://en.wikipedia.org/wiki/NASDAQ-100#Components\u001b[39m\u001b[39m'\u001b[39m\n\u001b[0;32m      <a href='vscode-notebook-cell:/c%3A/Users/thopa/Desktop/Assignments/11755_MLforSP/Project/AdaptiveFiltering/prototype.ipynb#W1sZmlsZQ%3D%3D?line=6'>7</a>\u001b[0m html \u001b[39m=\u001b[39m pd\u001b[39m.\u001b[39mread_html(url, header\u001b[39m=\u001b[39m\u001b[39m0\u001b[39m)\n\u001b[1;32m----> <a href='vscode-notebook-cell:/c%3A/Users/thopa/Desktop/Assignments/11755_MLforSP/Project/AdaptiveFiltering/prototype.ipynb#W1sZmlsZQ%3D%3D?line=7'>8</a>\u001b[0m series \u001b[39m=\u001b[39m html[\u001b[39m4\u001b[39;49m][\u001b[39m\"\u001b[39;49m\u001b[39mTicker\u001b[39;49m\u001b[39m\"\u001b[39;49m]\n\u001b[0;32m      <a href='vscode-notebook-cell:/c%3A/Users/thopa/Desktop/Assignments/11755_MLforSP/Project/AdaptiveFiltering/prototype.ipynb#W1sZmlsZQ%3D%3D?line=8'>9</a>\u001b[0m symbols \u001b[39m=\u001b[39m series\u001b[39m.\u001b[39mto_list()\n\u001b[0;32m     <a href='vscode-notebook-cell:/c%3A/Users/thopa/Desktop/Assignments/11755_MLforSP/Project/AdaptiveFiltering/prototype.ipynb#W1sZmlsZQ%3D%3D?line=9'>10</a>\u001b[0m \u001b[39m# download prices history\u001b[39;00m\n",
      "File \u001b[1;32md:\\anaconda\\envs\\MachineLearningSP\\lib\\site-packages\\pandas\\core\\frame.py:3804\u001b[0m, in \u001b[0;36mDataFrame.__getitem__\u001b[1;34m(self, key)\u001b[0m\n\u001b[0;32m   3802\u001b[0m \u001b[39mif\u001b[39;00m \u001b[39mself\u001b[39m\u001b[39m.\u001b[39mcolumns\u001b[39m.\u001b[39mnlevels \u001b[39m>\u001b[39m \u001b[39m1\u001b[39m:\n\u001b[0;32m   3803\u001b[0m     \u001b[39mreturn\u001b[39;00m \u001b[39mself\u001b[39m\u001b[39m.\u001b[39m_getitem_multilevel(key)\n\u001b[1;32m-> 3804\u001b[0m indexer \u001b[39m=\u001b[39m \u001b[39mself\u001b[39;49m\u001b[39m.\u001b[39;49mcolumns\u001b[39m.\u001b[39;49mget_loc(key)\n\u001b[0;32m   3805\u001b[0m \u001b[39mif\u001b[39;00m is_integer(indexer):\n\u001b[0;32m   3806\u001b[0m     indexer \u001b[39m=\u001b[39m [indexer]\n",
      "File \u001b[1;32md:\\anaconda\\envs\\MachineLearningSP\\lib\\site-packages\\pandas\\core\\indexes\\base.py:3805\u001b[0m, in \u001b[0;36mIndex.get_loc\u001b[1;34m(self, key, method, tolerance)\u001b[0m\n\u001b[0;32m   3803\u001b[0m     \u001b[39mreturn\u001b[39;00m \u001b[39mself\u001b[39m\u001b[39m.\u001b[39m_engine\u001b[39m.\u001b[39mget_loc(casted_key)\n\u001b[0;32m   3804\u001b[0m \u001b[39mexcept\u001b[39;00m \u001b[39mKeyError\u001b[39;00m \u001b[39mas\u001b[39;00m err:\n\u001b[1;32m-> 3805\u001b[0m     \u001b[39mraise\u001b[39;00m \u001b[39mKeyError\u001b[39;00m(key) \u001b[39mfrom\u001b[39;00m \u001b[39merr\u001b[39;00m\n\u001b[0;32m   3806\u001b[0m \u001b[39mexcept\u001b[39;00m \u001b[39mTypeError\u001b[39;00m:\n\u001b[0;32m   3807\u001b[0m     \u001b[39m# If we have a listlike key, _check_indexing_error will raise\u001b[39;00m\n\u001b[0;32m   3808\u001b[0m     \u001b[39m#  InvalidIndexError. Otherwise we fall through and re-raise\u001b[39;00m\n\u001b[0;32m   3809\u001b[0m     \u001b[39m#  the TypeError.\u001b[39;00m\n\u001b[0;32m   3810\u001b[0m     \u001b[39mself\u001b[39m\u001b[39m.\u001b[39m_check_indexing_error(key)\n",
      "\u001b[1;31mKeyError\u001b[0m: 'Ticker'"
     ]
    }
   ],
   "source": [
    "# # create a folder for data storage\n",
    "# if not os.path.exists(\"stocks data\"):\n",
    "#     os.mkdir(\"stocks data\")\n",
    "\n",
    "# # read the NASDAQ 100 Index ticker symbols list from Wiki\n",
    "# url = 'https://en.wikipedia.org/wiki/NASDAQ-100#Components'\n",
    "# html = pd.read_html(url, header=0)\n",
    "# series = html[4][\"Ticker\"]\n",
    "# symbols = series.to_list()\n",
    "# # download prices history\n",
    "# with open(os.devnull, 'w') as devnull:\n",
    "#     with contextlib.redirect_stdout(devnull):\n",
    "#         for i, symbol in enumerate(symbols):\n",
    "#             data = yf.download(symbol, period='max')[\"Close\"]\n",
    "#             data.to_csv('stocks data/{}.csv'.format(symbol))"
   ]
  },
  {
   "cell_type": "code",
   "execution_count": 33,
   "metadata": {},
   "outputs": [],
   "source": [
    "# Working with a single stock \n",
    "# This signal has 1170 discrete values. We use the LMS algorithm to learn the filter weights \n",
    "# Teacher forcing approach at each step \n",
    "\n",
    "path = \"stocks_dataCLOSE/GOOGL.csv\"\n",
    "# csv_files = glob.glob(os.path.join(path, \"norm_GOOGL.csv\"))\n",
    "df = pd.read_csv(path)\n",
    "signal  = {}\n",
    "signal['date'] = df['Date']\n",
    "signal['close'] = df['Close']\n",
    "# Quantizing for more accuracy ?\n",
    "# Smoothing with an LPF might also work \n",
    "signal['close'] = [np.floor(i) for i in signal['close']]\n",
    "signal['close'] = np.array(signal['close'])"
   ]
  },
  {
   "cell_type": "code",
   "execution_count": 27,
   "metadata": {},
   "outputs": [],
   "source": [
    "class lmsPred:\n",
    "    def __init__(self, u):\n",
    "        # Do not alter this ~ zeros out prediction for the last day \n",
    "        self.l = 1\n",
    "        self.u = 2**(-30)\n",
    "        self.N = 20\n",
    "\n",
    "        # Weight initialization\n",
    "        self.wn=np.random.rand(self.N+1,1)/10\n",
    "          \n",
    "    def train(self, x):\n",
    "        xd= np.block([np.zeros((1,self.l)), x]).T\n",
    "        y=np.zeros((len(xd),1))\n",
    "        xn=np.zeros((self.N+1,1))\n",
    "        xn = np.matrix(xn)\n",
    "        M=len(xd)\n",
    "        for n in range(0,M):\n",
    "            xn = np.block([[xd[n]], [xn[0:self.N]]])\n",
    "\n",
    "            # Gradient clips at this step \n",
    "            y[n]= np.matmul(self.wn.T, xn)\n",
    "\n",
    "\n",
    "            if -10 > np.sum(self.wn) > 10:\n",
    "                print(self.wn)\n",
    "                break  \n",
    "\n",
    "            if(n>M-self.l-1):\n",
    "                e = 0\n",
    "            else:\n",
    "                e= int(x[n]-y[n])\n",
    "            self.wn = self.wn + 2*self.u*e*xn\n",
    "        return y\n",
    "\n",
    "    def predictToday(self):\n",
    "        today = date.today()\n",
    "        print(\"Today's date:{}\".format(today))\n",
    "        \n",
    "        \n",
    "        \n",
    " \n",
    "\n"
   ]
  },
  {
   "cell_type": "code",
   "execution_count": 28,
   "metadata": {},
   "outputs": [
    {
     "name": "stdout",
     "output_type": "stream",
     "text": [
      "Filter is fine-tuning on prior data.... \n"
     ]
    },
    {
     "name": "stderr",
     "output_type": "stream",
     "text": [
      "100%|██████████| 4557/4557 [00:08<00:00, 558.35it/s]\n"
     ]
    },
    {
     "data": {
      "image/png": "[encoded data removed]",
      "text/plain": [
       "<Figure size 640x480 with 1 Axes>"
      ]
     },
     "metadata": {},
     "output_type": "display_data"
    },
    {
     "name": "stdout",
     "output_type": "stream",
     "text": [
      "For every window size of 30,  we used 29 to learn the filter weights and 1 for validation.\n",
      "We accumulate these validation scores and calcualte the MSE and MAE below:\n",
      "Company: Google\n",
      "Mean Squared Error:  40.42536901179655\n",
      "Mean Absolute Error: 3.873190331033198\n"
     ]
    }
   ],
   "source": [
    "#  Initialize a new LMS predictor class\n",
    "#  For tuning the hyperparameters \n",
    "\n",
    "# Parameters to consider [ u = learning rate, l = number of outputs to predict, N = filter order, x = input vector ]\n",
    "# Wise to consider a smaller window ~ Ideal window size for stock market prediction\n",
    "\n",
    "x_train = signal\n",
    "x_train_max = np.max(x_train)\n",
    "if x_train_max > 200:\n",
    "    k = 1\n",
    "else: \n",
    "    k = 0 \n",
    "lr_options = [2**(-20), 2**(-30)]   \n",
    "\n",
    "predClass = lmsPred(lr_options[k])\n",
    "\n",
    "real_values, pred_values = [], []\n",
    "print(\"Filter is fine-tuning on prior data.... \")\n",
    "\n",
    "# We set the learning rate depending on the max \n",
    "\n",
    "for i in tqdm(range(len(x_train)-30)):\n",
    "    x = x_train[i:i+30]\n",
    "    result = predClass.train(x)\n",
    "    pred = result[-1:]\n",
    "    pred_values.append(np.squeeze(pred))\n",
    "    real = x[-1]\n",
    "    real_values.append(x[-1])\n",
    "    \n",
    "plt.plot(x_train, color = 'black')\n",
    "plt.plot(pred_values, color = 'red')\n",
    "plt.legend([\"original\", \"predicted\"])\n",
    "plt.title(\"Validation Example\")\n",
    "plt.show()\n",
    "\n",
    "\n",
    "# Printout relevant metrics\n",
    "print(\"For every window size of 30,  we used 29 to learn the filter weights and 1 for validation.\\nWe accumulate these validation scores and calcualte the MSE and MAE below:\")\n",
    "print(\"Company: Google\")\n",
    "print(\"Mean Squared Error: \",mean_squared_error(real_values, pred_values) )\n",
    "print(\"Mean Absolute Error:\", mean_absolute_error(real_values, pred_values))\n"
   ]
  },
  {
   "cell_type": "markdown",
   "metadata": {},
   "source": [
    "### GLOBAL Validation\n",
    "- Closing price prediction across all companies ~ 100 models trained\n",
    "- Similar hyperparameters? \n",
    "- Data preprocessing considerations? "
   ]
  },
  {
   "cell_type": "code",
   "execution_count": 188,
   "metadata": {},
   "outputs": [
    {
     "name": "stdout",
     "output_type": "stream",
     "text": [
      "Filter is fine-tuning on prior data on all companies listed... \n"
     ]
    },
    {
     "name": "stderr",
     "output_type": "stream",
     "text": [
      "100%|██████████| 102/102 [19:10<00:00, 11.28s/it]\n"
     ]
    }
   ],
   "source": [
    "# 2022-11-04\n",
    "\n",
    "path = \"stocks_dataCLOSE/\"\n",
    "csv_files = glob.glob(os.path.join(path, \"*.csv\"))\n",
    "text_file = open(\"C:\\\\Users\\\\thopa\\\\Desktop\\\\Assignments\\\\11755_MLforSP\\\\Project\\\\AdaptiveFiltering\\\\log.txt\",\"w\")\n",
    "# Primary validation loop \n",
    "# Extremely slow code ~ Scope for optimization (Any suggestions Anthony or Daniel?)\n",
    "\n",
    "print(\"Filter is fine-tuning on prior data on all companies listed... \")\n",
    "for j in tqdm(csv_files):\n",
    "    df = pd.read_csv(j)\n",
    "    signal = df['Close']\n",
    "    signal = [np.floor(k) for k in signal]\n",
    "    signal = np.array(signal)\n",
    "\n",
    "    # New adaptive filter for every company \n",
    "\n",
    "    x_train = signal\n",
    "\n",
    "    # Some steps to avoid gradient explosing or vanishing \n",
    "    x_train_max = np.max(x_train)\n",
    "    if x_train_max > 200:\n",
    "        k = 1\n",
    "    else: \n",
    "        k = 0 \n",
    "    lr_options = [2**(-20), 2**(-30)]\n",
    "    predClass = lmsPred(lr_options[k])\n",
    "\n",
    "\n",
    "    real_values, pred_values = [], []\n",
    "    for i in range(len(x_train)-30):\n",
    "        x = x_train[i:i+30]\n",
    "        result = predClass.train(x)\n",
    "        pred = result[-1:]\n",
    "        pred_values.append(np.squeeze(pred))\n",
    "        real = x[-1]\n",
    "        real_values.append(x[-1])\n",
    "    string = \"Company {} | MSE: {} | MAE: {} \\n\".format(j.split(\"\\\\\")[-1].split(\".\")[-2],mean_squared_error(real_values, pred_values), mean_absolute_error(real_values, pred_values))\n",
    "    text_file.write(string)\n",
    "    text_file.flush()\n",
    "text_file.close()\n"
   ]
  },
  {
   "cell_type": "code",
   "execution_count": 90,
   "metadata": {},
   "outputs": [],
   "source": [
    "class lmsTrainPred:\n",
    "    def __init__(self):\n",
    "        # Do not alter this ~ zeros out prediction for the last day \n",
    "        self.u = 2**(-20)\n",
    "        self.N = 60\n",
    "\n",
    "        # Weight initialization\n",
    "        self.wn=np.random.rand(self.N+1,1)/10\n",
    "          \n",
    "    def train(self, x):\n",
    "        xd= np.block([x]).T\n",
    "        y=np.zeros((len(xd),1))\n",
    "        xn=np.zeros((self.N+1,1))\n",
    "        xn = np.matrix(xn)\n",
    "        M=len(xd)\n",
    "        for n in range(0,M):\n",
    "            xn = np.block([[xd[n]], [xn[0:self.N]]])\n",
    "\n",
    "            # Gradient clips at this step \n",
    "            y[n]= np.matmul(self.wn.T, xn)\n",
    "            if -10 > np.sum(self.wn) > 10:\n",
    "                print(self.wn)\n",
    "                break  \n",
    "            else:\n",
    "                e= int(x[n]-y[n])\n",
    "                \n",
    "            self.wn = self.wn + 2*self.u*e*xn\n",
    "\n",
    "    def predictToday(self,x,l):\n",
    "        self.l = l\n",
    "        xd= np.block([np.zeros((1,self.l)), x]).T\n",
    "        y=np.zeros((len(xd),1))\n",
    "        xn=np.zeros((self.N+1,1))\n",
    "        xn = np.matrix(xn)\n",
    "        M=len(xd)\n",
    "        for n in range(0,M):\n",
    "            xn = np.block([[xd[n]], [xn[0:self.N]]])\n",
    "\n",
    "            # Gradient clips at this step \n",
    "            y[n]= np.matmul(self.wn.T, xn)\n",
    "\n",
    "            if -10 > np.sum(self.wn) > 10:\n",
    "                print(self.wn)\n",
    "                break  \n",
    "            if(n>M-self.l-1):\n",
    "                e = 0\n",
    "            else:\n",
    "                e= int(x[n]-y[n])\n",
    "            self.wn = self.wn + 2*self.u*e*xn\n",
    "        return y\n",
    "        \n",
    "        \n",
    "        \n",
    " \n",
    "\n",
    "\n",
    "        \n",
    "        \n",
    " \n",
    "\n"
   ]
  },
  {
   "cell_type": "code",
   "execution_count": 91,
   "metadata": {},
   "outputs": [
    {
     "name": "stdout",
     "output_type": "stream",
     "text": [
      "Filter is fine-tuning on prior data.... \n",
      "Trained on data from 2004-08-19 to 4575    2022-10-20\n",
      "Name: Date, dtype: object\n"
     ]
    },
    {
     "name": "stderr",
     "output_type": "stream",
     "text": [
      "100%|██████████| 4546/4546 [00:08<00:00, 519.00it/s]\n",
      "100%|██████████| 10/10 [00:00<00:00, 260.46it/s]\n"
     ]
    },
    {
     "name": "stdout",
     "output_type": "stream",
     "text": [
      "2022-10-21 Prediction  [99.55586008] : Actual price 102.0: \n",
      "2022-10-24 Prediction  [102.44748479] : Actual price 104.0: \n",
      "2022-10-25 Prediction  [102.9160336] : Actual price 94.0: \n",
      "2022-10-26 Prediction  [105.93623944] : Actual price 92.0: \n",
      "2022-10-27 Prediction  [90.19320699] : Actual price 96.0: \n",
      "2022-10-28 Prediction  [88.84919116] : Actual price 94.0: \n",
      "2022-10-31 Prediction  [96.44180946] : Actual price 90.0: \n",
      "2022-11-01 Prediction  [93.61519874] : Actual price 86.0: \n",
      "2022-11-02 Prediction  [88.42917706] : Actual price 83.0: \n",
      "2022-11-03 Prediction  [82.9724029] : Actual price 86.0: \n"
     ]
    },
    {
     "data": {
      "image/png": "[encoded data removed]",
      "text/plain": [
       "<Figure size 640x480 with 1 Axes>"
      ]
     },
     "metadata": {},
     "output_type": "display_data"
    }
   ],
   "source": [
    "# Data loader \n",
    "\n",
    "path = \"stocks_dataCLOSE/GOOGL.csv\"\n",
    "# csv_files = glob.glob(os.path.join(path, \"norm_GOOGL.csv\"))\n",
    "df = pd.read_csv(path)\n",
    "signal  = {}\n",
    "signal['date'] = df['Date']\n",
    "signal['close'] = df['Close']\n",
    "# Quantizing for more accuracy ?\n",
    "# Smoothing with an LPF might also work \n",
    "signal['close'] = [np.floor(i) for i in signal['close']]\n",
    "signal['close'] = np.array(signal['close'])\n",
    "\n",
    "\n",
    "\n",
    "predClass = lmsTrainPred()\n",
    "real_values, pred_values = [], []\n",
    "print(\"Filter is fine-tuning on prior data.... \")\n",
    "\n",
    "# We set the learning rate depending on the max \n",
    "\n",
    "print(\"Trained on data from {} to {}\".format(signal['date'][0], signal['date'][-12:-11]))\n",
    "j = 0\n",
    "train_data_v = signal['close'][:-11] # Everything before 20th \n",
    "train_data_d = signal['date'][:-11]\n",
    "train_len = len(train_data_v)\n",
    "for i in tqdm(range(train_len-30)):\n",
    "    x = train_data_v[i:i+30]\n",
    "    predClass.train(x)\n",
    "# Iteratively predict and train for the last 10 days \n",
    "test_data_v = np.concatenate((train_data_v[4545:4545+30], signal['close'][-11:]), axis= 0)\n",
    "test_data_d = list(signal['date'][-11:])\n",
    "test_len = len(test_data_v)\n",
    "prediction = []\n",
    "actual = []\n",
    "for i in tqdm(range(test_len-30-1)):\n",
    "\n",
    "    # We make a prediction first, then put it into the model \n",
    "    # Pass the last 30 values \n",
    "    y_pred = predClass.predictToday(test_data_v[i:i+30],1)\n",
    "    prediction.append(y_pred[-1])\n",
    "    actual.append(test_data_v[30+i+1])\n",
    "   \n",
    "    print(\"{} Prediction  {} : Actual price {}: \".format(test_data_d[i],y_pred[-1], test_data_v[30+i+1])) \n",
    "    predClass.train(test_data_v[i+1:i+30+1])\n",
    "\n",
    "\n",
    "plt.plot(actual, color = 'black')\n",
    "plt.plot(prediction, color = 'red')\n",
    "plt.legend([\"original\", \"predicted\"])\n",
    "plt.title(\"Validation Example\")\n",
    "plt.show()\n",
    "\n",
    "\n",
    "# # Printout relevant metrics\n",
    "# print(\"For every window size of 30,  we used 29 to learn the filter weights and 1 for validation.\\nWe accumulate these validation scores and calcualte the MSE and MAE below:\")\n",
    "# print(\"Company: Google\")\n",
    "# print(\"Mean Squared Error: \",mean_squared_error(real_values, pred_values) )\n",
    "# print(\"Mean Absolute Error:\", mean_absolute_error(real_values, pred_values))"
   ]
  },
  {
   "cell_type": "code",
   "execution_count": 71,
   "metadata": {},
   "outputs": [
    {
     "data": {
      "text/plain": [
       "array([], dtype=float64)"
      ]
     },
     "execution_count": 71,
     "metadata": {},
     "output_type": "execute_result"
    }
   ],
   "source": []
  },
  {
   "cell_type": "code",
   "execution_count": 38,
   "metadata": {},
   "outputs": [
    {
     "data": {
      "text/plain": [
       "4575    2022-10-20\n",
       "Name: Date, dtype: object"
      ]
     },
     "execution_count": 38,
     "metadata": {},
     "output_type": "execute_result"
    }
   ],
   "source": []
  },
  {
   "cell_type": "code",
   "execution_count": null,
   "metadata": {},
   "outputs": [],
   "source": []
  }
 ],
 "metadata": {
  "kernelspec": {
   "display_name": "Python 3.9.13 ('MachineLearningSP')",
   "language": "python",
   "name": "python3"
  },
  "language_info": {
   "codemirror_mode": {
    "name": "ipython",
    "version": 3
   },
   "file_extension": ".py",
   "mimetype": "text/x-python",
   "name": "python",
   "nbconvert_exporter": "python",
   "pygments_lexer": "ipython3",
   "version": "3.9.13"
  },
  "orig_nbformat": 4,
  "vscode": {
   "interpreter": {
    "hash": "49b2d65e1b0b032489a04cba81952684948c8e52a35a47ef77d63bd5ca4e6ea3"
   }
  }
 },
 "nbformat": 4,
 "nbformat_minor": 2
}
